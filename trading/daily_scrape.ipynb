{
 "cells": [
  {
   "cell_type": "markdown",
   "id": "63177298-41e3-4868-8e19-b7d71c4f78a6",
   "metadata": {},
   "source": [
    "# Daily Scrape"
   ]
  },
  {
   "cell_type": "markdown",
   "id": "fb25ce97-7e65-46f4-8cfd-941a977d2ffd",
   "metadata": {},
   "source": [
    "_A notebook for scraping market data on a daily basis. It is meant for a quick and essential overview to then use more specialized tools._"
   ]
  },
  {
   "cell_type": "markdown",
   "id": "1c36d9d2-4419-40a4-8f0d-b44eb85d6637",
   "metadata": {},
   "source": [
    "## Market Data"
   ]
  },
  {
   "cell_type": "code",
   "execution_count": 5,
   "id": "8e56bb25-861d-482a-bf42-3a28d5fcc0df",
   "metadata": {
    "editable": true,
    "slideshow": {
     "slide_type": ""
    },
    "tags": []
   },
   "outputs": [
    {
     "data": {
      "text/plain": [
       "<bound method NDFrame.tail of Price            Close                                                  \\\n",
       "Ticker            AAPL        AMZN       GOOGL        META        MSFT   \n",
       "Date                                                                     \n",
       "1980-12-12    0.098726         NaN         NaN         NaN         NaN   \n",
       "1980-12-15    0.093575         NaN         NaN         NaN         NaN   \n",
       "1980-12-16    0.086707         NaN         NaN         NaN         NaN   \n",
       "1980-12-17    0.088853         NaN         NaN         NaN         NaN   \n",
       "1980-12-18    0.091429         NaN         NaN         NaN         NaN   \n",
       "...                ...         ...         ...         ...         ...   \n",
       "2025-03-06  235.330002  200.699997  172.151733  627.929993  396.890015   \n",
       "2025-03-07  239.070007  199.250000  173.660004  625.659973  393.309998   \n",
       "2025-03-10  227.479996  194.539993  165.869995  597.989990  380.160004   \n",
       "2025-03-11  220.839996  196.589996  164.039993  605.710022  380.450012   \n",
       "2025-03-12  216.979996  198.889999  167.110001  619.559998  383.269989   \n",
       "\n",
       "Price                                     High                          ...  \\\n",
       "Ticker            NVDA        TSLA        AAPL        AMZN       GOOGL  ...   \n",
       "Date                                                                    ...   \n",
       "1980-12-12         NaN         NaN    0.099155         NaN         NaN  ...   \n",
       "1980-12-15         NaN         NaN    0.094005         NaN         NaN  ...   \n",
       "1980-12-16         NaN         NaN    0.087136         NaN         NaN  ...   \n",
       "1980-12-17         NaN         NaN    0.089282         NaN         NaN  ...   \n",
       "1980-12-18         NaN         NaN    0.091858         NaN         NaN  ...   \n",
       "...                ...         ...         ...         ...         ...  ...   \n",
       "2025-03-06  110.570000  263.450012  237.860001  205.770004  174.608895  ...   \n",
       "2025-03-07  112.690002  262.670013  241.369995  202.270004  174.768727  ...   \n",
       "2025-03-10  106.980003  222.149994  236.160004  196.729996  168.460007  ...   \n",
       "2025-03-11  108.760002  230.580002  225.839996  200.179993  166.750000  ...   \n",
       "2025-03-12  115.739998  248.089996  221.750000  201.520004  167.639999  ...   \n",
       "\n",
       "Price             Open                             Volume              \\\n",
       "Ticker            MSFT        NVDA        TSLA       AAPL        AMZN   \n",
       "Date                                                                    \n",
       "1980-12-12         NaN         NaN         NaN  469033600         NaN   \n",
       "1980-12-15         NaN         NaN         NaN  175884800         NaN   \n",
       "1980-12-16         NaN         NaN         NaN  105728000         NaN   \n",
       "1980-12-17         NaN         NaN         NaN   86441600         NaN   \n",
       "1980-12-18         NaN         NaN         NaN   73449600         NaN   \n",
       "...                ...         ...         ...        ...         ...   \n",
       "2025-03-06  394.279999  113.529999  272.059998   45170400  49863800.0   \n",
       "2025-03-07  392.320007  111.250000  259.320007   46273600  59802800.0   \n",
       "2025-03-10  385.839996  109.900002  252.539993   72071200  62350900.0   \n",
       "2025-03-11  379.000000  106.989998  225.309998   76137400  54002900.0   \n",
       "2025-03-12  382.950012  114.120003  247.220001   62466400  43592200.0   \n",
       "\n",
       "Price                                                                     \n",
       "Ticker           GOOGL        META        MSFT         NVDA         TSLA  \n",
       "Date                                                                      \n",
       "1980-12-12         NaN         NaN         NaN          NaN          NaN  \n",
       "1980-12-15         NaN         NaN         NaN          NaN          NaN  \n",
       "1980-12-16         NaN         NaN         NaN          NaN          NaN  \n",
       "1980-12-17         NaN         NaN         NaN          NaN          NaN  \n",
       "1980-12-18         NaN         NaN         NaN          NaN          NaN  \n",
       "...                ...         ...         ...          ...          ...  \n",
       "2025-03-06  28302000.0  13446500.0  23304600.0  321181900.0   98451600.0  \n",
       "2025-03-07  27385800.0  21375700.0  22034100.0  341755500.0  102369600.0  \n",
       "2025-03-10  43604000.0  21999900.0  32840100.0  366487400.0  189076900.0  \n",
       "2025-03-11  39587400.0  17401500.0  30380200.0  354865700.0  174896400.0  \n",
       "2025-03-12  28301800.0  15723900.0  24213900.0  322345000.0  140904000.0  \n",
       "\n",
       "[11152 rows x 35 columns]>"
      ]
     },
     "execution_count": 5,
     "metadata": {},
     "output_type": "execute_result"
    }
   ],
   "source": [
    "# import libraries\n",
    "import pandas as pd\n",
    "import numpy as np\n",
    "import yfinance as yf\n",
    "\n",
    "# fetch wanted market data from Yahoo Finance\n",
    "def fetch_data():\n",
    "    dld = yf.download(['AAPL','AMZN','GOOGL','META','MSFT','NVDA','TSLA'])\n",
    "    df = pd.DataFrame(dld)\n",
    "    return df\n",
    "    \n",
    "df.tail"
   ]
  }
 ],
 "metadata": {
  "kernelspec": {
   "display_name": "Python 3 (ipykernel)",
   "language": "python",
   "name": "python3"
  },
  "language_info": {
   "codemirror_mode": {
    "name": "ipython",
    "version": 3
   },
   "file_extension": ".py",
   "mimetype": "text/x-python",
   "name": "python",
   "nbconvert_exporter": "python",
   "pygments_lexer": "ipython3",
   "version": "3.12.5"
  },
  "widgets": {
   "application/vnd.jupyter.widget-state+json": {
    "state": {},
    "version_major": 2,
    "version_minor": 0
   }
  }
 },
 "nbformat": 4,
 "nbformat_minor": 5
}
